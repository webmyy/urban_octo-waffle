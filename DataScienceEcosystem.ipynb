{
 "cells": [
  {
   "cell_type": "markdown",
   "id": "0335de62",
   "metadata": {},
   "source": [
    "# Notebook"
   ]
  },
  {
   "cell_type": "markdown",
   "id": "4d660e3a",
   "metadata": {},
   "source": [
    "### Introduction\n",
    "\n",
    " Data science is a multidisciplinary field that deals with vast volumes of data using modern tools and techniques to find unseen patterns, derive meaningful information, and make business decisions"
   ]
  },
  {
   "cell_type": "markdown",
   "id": "21c152cc",
   "metadata": {},
   "source": [
    "#### List data science languages.\n",
    "\n",
    "Data science involves working with various programming languages to analyze and derive insights from data. Here is a list of some of the most popular programming languages used in data science:\n",
    "\n",
    "- Python: Python is the most widely used language in data science due to its simplicity, versatility, and extensive libraries for data manipulation, analysis, and visualization.\n",
    "\n",
    "- R: R is a language specifically designed for statistical analysis and data visualization. It is widely used in academia and research.\n",
    "\n",
    "- SQL: SQL is a language used for managing and manipulating relational databases. It is essential for working with structured data.\n",
    "\n",
    "- Java: Java is a versatile language that can be used for big data processing and integration with other languages in the Java Virtual Machine ecosystem.\n",
    "\n",
    "- Julia: Julia is a high-performance language for technical computing, ideal for tasks that require complex mathematical operations.\n",
    "\n",
    "- Scala: Scala is a language that runs on the Java Virtual Machine and is known for its scalability and integration with big data processing frameworks like Apache Spark.\n",
    "\n",
    "- C/C++: These languages are used for tasks that require high performance and low-level control, such as developing machine learning algorithms or working with large datasets.\n",
    "\n",
    "- JavaScript: JavaScript is primarily used for web development, but it can also be useful for data visualization and interactive dashboards.\n",
    "\n",
    "- MATLAB: MATLAB is a proprietary language widely used in academia and industry for numerical computing and data analysis.\n",
    "\n"
   ]
  },
  {
   "cell_type": "markdown",
   "id": "2ca77d80",
   "metadata": {},
   "source": [
    "#### List data science libraries.\n",
    "Here is a list of popular Python libraries for data science:\n",
    "- NumPy: A fundamental library for numerical computing, providing support for large, multi-dimensional arrays and matrices, along with a collection of mathematical functions.\n",
    "\n",
    "- Pandas: A library for data manipulation and analysis, offering data structures and operations for efficient handling of structured data.\n",
    "\n",
    "- Matplotlib: A plotting library for creating static, animated, and interactive visualizations in Python.\n",
    "\n",
    "- TensorFlow: A library for high-performance numerical computations, with a focus on machine learning and deep learning, using data flow graphs.\n",
    "\n",
    "- PyTorch: An open-source machine learning library, developed by Facebook's AI Research lab, that provides a flexible and efficient framework for building deep learning models.\n"
   ]
  },
  {
   "cell_type": "markdown",
   "id": "e2a4c999",
   "metadata": {},
   "source": [
    "#### Table of data science tools.\n",
    "\n",
    "Here is a table of some of the most popular data science tools in 2023, along with their key features and functionalities:\n",
    "\n",
    "| Tool | Key Features and Functionalities |\n",
    "|------|---------------------------------|\n",
    "| Apache Spark | - Robust analytics engine <br> - Can handle large amounts of data |\n",
    "| Python Data Science Tools | - Widely used for data processing, visualization, and complex calculations <br> - Includes libraries such as NumPy, Pandas, and Matplotlib |\n",
    "| MATLAB | - High-level programming language and environment for numerical computation, visualization, and algorithm development |\n",
    "| Excel | - Widely used for spreadsheet calculations, data processing, and visualization |\n",
    "| IBM SPSS | - Statistical analysis software for data management, modeling, and reporting |\n",
    "| Azure Machine Learning | - Cloud-based machine learning service for building, training, and deploying models |\n",
    "\n",
    "These tools are used by data science professionals for various tasks such as data analysis, cleansing, visualization, mining, reporting, and filtering of data. Each tool has its own set of features and functionalities, and the choice of tools depends on the specific requirements of the project and the preferences of the data science team.\n",
    "\n"
   ]
  },
  {
   "cell_type": "markdown",
   "id": "6dbc4f1b",
   "metadata": {},
   "source": [
    "#### Introducing arithmetic expression examples\n",
    "- Below are a few examples of evaluating arithmetic expressions in Python"
   ]
  },
  {
   "cell_type": "code",
   "execution_count": 8,
   "id": "3f01399f",
   "metadata": {},
   "outputs": [
    {
     "data": {
      "text/plain": [
       "17"
      ]
     },
     "execution_count": 8,
     "metadata": {},
     "output_type": "execute_result"
    }
   ],
   "source": [
    "# This a simple arithmetic expression to mutiply then add integers\n",
    "\n",
    "(3*4)+5"
   ]
  },
  {
   "cell_type": "code",
   "execution_count": 7,
   "id": "26e7e381",
   "metadata": {},
   "outputs": [
    {
     "data": {
      "text/plain": [
       "3.3333333333333335"
      ]
     },
     "execution_count": 7,
     "metadata": {},
     "output_type": "execute_result"
    }
   ],
   "source": [
    "# This will convert 200 minutes to hours by diving by 60\n",
    "\n",
    "200/60"
   ]
  },
  {
   "cell_type": "markdown",
   "id": "50af835e",
   "metadata": {},
   "source": [
    "## Objectives:\n",
    "\n",
    "- List popular languages for Data Science\n",
    "- Identify key features and functionalities of popular Data Science libraries\n",
    "- Understand the role of Data Science in various industries\n",
    "- Explore the applications of Data Science in real-world scenarios\n",
    "- Gain familiarity with common Data Science tools and techniques"
   ]
  },
  {
   "cell_type": "markdown",
   "id": "89b04ddc",
   "metadata": {},
   "source": [
    " ## Author’s name: \n",
    " Yassin"
   ]
  },
  {
   "cell_type": "code",
   "execution_count": null,
   "id": "76ff385f",
   "metadata": {},
   "outputs": [],
   "source": []
  }
 ],
 "metadata": {
  "kernelspec": {
   "display_name": "Python 3 (ipykernel)",
   "language": "python",
   "name": "python3"
  },
  "language_info": {
   "codemirror_mode": {
    "name": "ipython",
    "version": 3
   },
   "file_extension": ".py",
   "mimetype": "text/x-python",
   "name": "python",
   "nbconvert_exporter": "python",
   "pygments_lexer": "ipython3",
   "version": "3.11.5"
  }
 },
 "nbformat": 4,
 "nbformat_minor": 5
}
